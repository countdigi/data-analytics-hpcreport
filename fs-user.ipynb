{
 "cells": [
  {
   "cell_type": "markdown",
   "metadata": {},
   "source": [
    "# hii.rc.usf.edu user-based filesystems usage report"
   ]
  },
  {
   "cell_type": "code",
   "execution_count": 30,
   "metadata": {},
   "outputs": [
    {
     "data": {
      "text/plain": [
       "'2017-07'"
      ]
     },
     "execution_count": 30,
     "metadata": {},
     "output_type": "execute_result"
    }
   ],
   "source": [
    "import datetime\n",
    "import os\n",
    "import yaml\n",
    "\n",
    "import pandas as pd\n",
    "import matplotlib.pyplot as plt\n",
    "import numpy as np\n",
    "import requests\n",
    "\n",
    "%matplotlib inline\n",
    "pd.options.mode.chained_assignment = None\n",
    "\n",
    "GB = 2**30\n",
    "TB = 2**40\n",
    "\n",
    "usermap_date = os.environ.get('USERMAP_DATE', '2017-07')\n",
    "usermap_yaml = f'http://depot.epi.usf.edu/src/countskm/hpcreport/data/usermap-{usermap_date}.yaml'\n",
    "\n",
    "date = os.environ.get('DATESTAMP', datetime.datetime.today().strftime('%Y-%m'))\n",
    "date"
   ]
  },
  {
   "cell_type": "markdown",
   "metadata": {},
   "source": [
    "## Establish /hii/work or /home as filesystem and set variations"
   ]
  },
  {
   "cell_type": "code",
   "execution_count": 31,
   "metadata": {
    "collapsed": true
   },
   "outputs": [],
   "source": [
    "report = os.environ.get('REPORT', 'fs-home')\n",
    "\n",
    "if report == 'fs-home':\n",
    "    filesystem = '/home'\n",
    "    path_offset = 2    \n",
    "    data_prefix='http://depot.epi.usf.edu/src/countskm/hpcreport/data/find-home'\n",
    "    \n",
    "elif report == 'fs-hii-work':\n",
    "    filesystem = '/hii/work'\n",
    "    path_offset = 3\n",
    "    data_prefix='http://depot.epi.usf.edu/src/countskm/hpcreport/data/find-hii-work'\n",
    "    \n",
    "report"
   ]
  },
  {
   "cell_type": "markdown",
   "metadata": {},
   "source": [
    "## Create user to group mapping structure"
   ]
  },
  {
   "cell_type": "code",
   "execution_count": 32,
   "metadata": {
    "collapsed": true
   },
   "outputs": [],
   "source": [
    "usermap_data = yaml.load(requests.get(usermap_yaml).text)\n",
    "\n",
    "usermap = {}\n",
    "usermap_data\n",
    "\n",
    "for group, users in usermap_data.items():\n",
    "    for user in users:\n",
    "        usermap[user] = group"
   ]
  },
  {
   "cell_type": "markdown",
   "metadata": {},
   "source": [
    "## Read in the pipe separated find output of the filesystem\n"
   ]
  },
  {
   "cell_type": "code",
   "execution_count": 43,
   "metadata": {
    "collapsed": true,
    "scrolled": true
   },
   "outputs": [],
   "source": [
    "df = pd.read_csv(f'{data_prefix}-{date}.psv.bz2', sep='|', dtype=str)\n",
    "df = df.dropna()\n",
    "df.bytes = df.bytes.apply(int)"
   ]
  },
  {
   "cell_type": "code",
   "execution_count": 44,
   "metadata": {},
   "outputs": [
    {
     "data": {
      "text/html": [
       "<div>\n",
       "<style>\n",
       "    .dataframe thead tr:only-child th {\n",
       "        text-align: right;\n",
       "    }\n",
       "\n",
       "    .dataframe thead th {\n",
       "        text-align: left;\n",
       "    }\n",
       "\n",
       "    .dataframe tbody tr th {\n",
       "        vertical-align: top;\n",
       "    }\n",
       "</style>\n",
       "<table border=\"1\" class=\"dataframe\">\n",
       "  <thead>\n",
       "    <tr style=\"text-align: right;\">\n",
       "      <th></th>\n",
       "      <th>path</th>\n",
       "      <th>inode</th>\n",
       "      <th>number_links</th>\n",
       "      <th>owner</th>\n",
       "      <th>group</th>\n",
       "      <th>ctime</th>\n",
       "      <th>atime</th>\n",
       "      <th>mtime</th>\n",
       "      <th>bytes</th>\n",
       "      <th>perms</th>\n",
       "    </tr>\n",
       "  </thead>\n",
       "  <tbody>\n",
       "    <tr>\n",
       "      <th>0</th>\n",
       "      <td>/hii/work/r/rchen7/annotation.txt</td>\n",
       "      <td>14055716</td>\n",
       "      <td>1</td>\n",
       "      <td>rchen7</td>\n",
       "      <td>rchen7</td>\n",
       "      <td>2016-09-07</td>\n",
       "      <td>2016-11-01</td>\n",
       "      <td>2016-09-07</td>\n",
       "      <td>205283851</td>\n",
       "      <td>0640</td>\n",
       "    </tr>\n",
       "    <tr>\n",
       "      <th>1</th>\n",
       "      <td>/hii/work/r/rchen7/cor_expvsobs_review.R</td>\n",
       "      <td>22351900</td>\n",
       "      <td>1</td>\n",
       "      <td>rchen7</td>\n",
       "      <td>rchen7</td>\n",
       "      <td>2016-11-03</td>\n",
       "      <td>2016-11-03</td>\n",
       "      <td>2016-11-03</td>\n",
       "      <td>1658</td>\n",
       "      <td>0660</td>\n",
       "    </tr>\n",
       "    <tr>\n",
       "      <th>2</th>\n",
       "      <td>/hii/work/r/rchen7/project/microbiome/curlset_...</td>\n",
       "      <td>30563418</td>\n",
       "      <td>1</td>\n",
       "      <td>rchen7</td>\n",
       "      <td>rchen7</td>\n",
       "      <td>2017-06-08</td>\n",
       "      <td>2017-06-08</td>\n",
       "      <td>2017-06-08</td>\n",
       "      <td>600</td>\n",
       "      <td>0660</td>\n",
       "    </tr>\n",
       "    <tr>\n",
       "      <th>3</th>\n",
       "      <td>/hii/work/r/rchen7/project/microbiome/curlset_...</td>\n",
       "      <td>30563403</td>\n",
       "      <td>1</td>\n",
       "      <td>rchen7</td>\n",
       "      <td>rchen7</td>\n",
       "      <td>2017-06-08</td>\n",
       "      <td>2017-06-08</td>\n",
       "      <td>2017-06-08</td>\n",
       "      <td>254</td>\n",
       "      <td>0770</td>\n",
       "    </tr>\n",
       "    <tr>\n",
       "      <th>4</th>\n",
       "      <td>/hii/work/r/rchen7/project/microbiome/curlfile...</td>\n",
       "      <td>30563402</td>\n",
       "      <td>1</td>\n",
       "      <td>rchen7</td>\n",
       "      <td>rchen7</td>\n",
       "      <td>2017-06-08</td>\n",
       "      <td>2017-06-12</td>\n",
       "      <td>2017-06-08</td>\n",
       "      <td>253</td>\n",
       "      <td>0770</td>\n",
       "    </tr>\n",
       "  </tbody>\n",
       "</table>\n",
       "</div>"
      ],
      "text/plain": [
       "                                                path     inode number_links   owner   group       ctime       atime       mtime      bytes perms\n",
       "0                  /hii/work/r/rchen7/annotation.txt  14055716            1  rchen7  rchen7  2016-09-07  2016-11-01  2016-09-07  205283851  0640\n",
       "1           /hii/work/r/rchen7/cor_expvsobs_review.R  22351900            1  rchen7  rchen7  2016-11-03  2016-11-03  2016-11-03       1658  0660\n",
       "2  /hii/work/r/rchen7/project/microbiome/curlset_...  30563418            1  rchen7  rchen7  2017-06-08  2017-06-08  2017-06-08        600  0660\n",
       "3  /hii/work/r/rchen7/project/microbiome/curlset_...  30563403            1  rchen7  rchen7  2017-06-08  2017-06-08  2017-06-08        254  0770\n",
       "4  /hii/work/r/rchen7/project/microbiome/curlfile...  30563402            1  rchen7  rchen7  2017-06-08  2017-06-12  2017-06-08        253  0770"
      ]
     },
     "execution_count": 44,
     "metadata": {},
     "output_type": "execute_result"
    }
   ],
   "source": [
    "df.head()"
   ]
  },
  {
   "cell_type": "code",
   "execution_count": 45,
   "metadata": {
    "collapsed": true
   },
   "outputs": [],
   "source": [
    "df = df[(df.path != f'{filesystem}/.control') & (~df.path.str.startswith(f'{filesystem}/.snapshots'))]"
   ]
  },
  {
   "cell_type": "code",
   "execution_count": 46,
   "metadata": {
    "collapsed": true
   },
   "outputs": [],
   "source": [
    "df = df[df.path.apply(lambda x: len(x.split('/')) > path_offset)]"
   ]
  },
  {
   "cell_type": "markdown",
   "metadata": {},
   "source": [
    "## Extract the group, filename, and file extension creating additional columns"
   ]
  },
  {
   "cell_type": "code",
   "execution_count": 47,
   "metadata": {
    "collapsed": true
   },
   "outputs": [],
   "source": [
    "df['user'] = df.path.apply(lambda x: x.split('/')[path_offset+1])\n",
    "df['filename'] = df.path.apply(lambda x: x.split('/')[-1])\n",
    "df['file_ext'] = df.path.apply(lambda x: os.path.splitext(x)[-1])"
   ]
  },
  {
   "cell_type": "code",
   "execution_count": 48,
   "metadata": {
    "collapsed": true
   },
   "outputs": [],
   "source": [
    "df['group'] = df.user.apply(lambda x: usermap.get(x, 'unknown'))"
   ]
  },
  {
   "cell_type": "markdown",
   "metadata": {},
   "source": [
    "## Show the head to get an idea of the structure"
   ]
  },
  {
   "cell_type": "code",
   "execution_count": 49,
   "metadata": {
    "scrolled": false
   },
   "outputs": [
    {
     "data": {
      "text/html": [
       "<div>\n",
       "<style>\n",
       "    .dataframe thead tr:only-child th {\n",
       "        text-align: right;\n",
       "    }\n",
       "\n",
       "    .dataframe thead th {\n",
       "        text-align: left;\n",
       "    }\n",
       "\n",
       "    .dataframe tbody tr th {\n",
       "        vertical-align: top;\n",
       "    }\n",
       "</style>\n",
       "<table border=\"1\" class=\"dataframe\">\n",
       "  <thead>\n",
       "    <tr style=\"text-align: right;\">\n",
       "      <th></th>\n",
       "      <th>path</th>\n",
       "      <th>inode</th>\n",
       "      <th>number_links</th>\n",
       "      <th>owner</th>\n",
       "      <th>group</th>\n",
       "      <th>ctime</th>\n",
       "      <th>atime</th>\n",
       "      <th>mtime</th>\n",
       "      <th>bytes</th>\n",
       "      <th>perms</th>\n",
       "      <th>user</th>\n",
       "      <th>filename</th>\n",
       "      <th>file_ext</th>\n",
       "    </tr>\n",
       "  </thead>\n",
       "  <tbody>\n",
       "    <tr>\n",
       "      <th>0</th>\n",
       "      <td>/hii/work/r/rchen7/annotation.txt</td>\n",
       "      <td>14055716</td>\n",
       "      <td>1</td>\n",
       "      <td>rchen7</td>\n",
       "      <td>hii-uva</td>\n",
       "      <td>2016-09-07</td>\n",
       "      <td>2016-11-01</td>\n",
       "      <td>2016-09-07</td>\n",
       "      <td>205283851</td>\n",
       "      <td>0640</td>\n",
       "      <td>rchen7</td>\n",
       "      <td>annotation.txt</td>\n",
       "      <td>.txt</td>\n",
       "    </tr>\n",
       "    <tr>\n",
       "      <th>1</th>\n",
       "      <td>/hii/work/r/rchen7/cor_expvsobs_review.R</td>\n",
       "      <td>22351900</td>\n",
       "      <td>1</td>\n",
       "      <td>rchen7</td>\n",
       "      <td>hii-uva</td>\n",
       "      <td>2016-11-03</td>\n",
       "      <td>2016-11-03</td>\n",
       "      <td>2016-11-03</td>\n",
       "      <td>1658</td>\n",
       "      <td>0660</td>\n",
       "      <td>rchen7</td>\n",
       "      <td>cor_expvsobs_review.R</td>\n",
       "      <td>.R</td>\n",
       "    </tr>\n",
       "    <tr>\n",
       "      <th>2</th>\n",
       "      <td>/hii/work/r/rchen7/project/microbiome/curlset_...</td>\n",
       "      <td>30563418</td>\n",
       "      <td>1</td>\n",
       "      <td>rchen7</td>\n",
       "      <td>hii-uva</td>\n",
       "      <td>2017-06-08</td>\n",
       "      <td>2017-06-08</td>\n",
       "      <td>2017-06-08</td>\n",
       "      <td>600</td>\n",
       "      <td>0660</td>\n",
       "      <td>rchen7</td>\n",
       "      <td>curlset_MP189_set.bsh</td>\n",
       "      <td>.bsh</td>\n",
       "    </tr>\n",
       "    <tr>\n",
       "      <th>3</th>\n",
       "      <td>/hii/work/r/rchen7/project/microbiome/curlset_...</td>\n",
       "      <td>30563403</td>\n",
       "      <td>1</td>\n",
       "      <td>rchen7</td>\n",
       "      <td>hii-uva</td>\n",
       "      <td>2017-06-08</td>\n",
       "      <td>2017-06-08</td>\n",
       "      <td>2017-06-08</td>\n",
       "      <td>254</td>\n",
       "      <td>0770</td>\n",
       "      <td>rchen7</td>\n",
       "      <td>curlset_MP189.bsh</td>\n",
       "      <td>.bsh</td>\n",
       "    </tr>\n",
       "    <tr>\n",
       "      <th>4</th>\n",
       "      <td>/hii/work/r/rchen7/project/microbiome/curlfile...</td>\n",
       "      <td>30563402</td>\n",
       "      <td>1</td>\n",
       "      <td>rchen7</td>\n",
       "      <td>hii-uva</td>\n",
       "      <td>2017-06-08</td>\n",
       "      <td>2017-06-12</td>\n",
       "      <td>2017-06-08</td>\n",
       "      <td>253</td>\n",
       "      <td>0770</td>\n",
       "      <td>rchen7</td>\n",
       "      <td>curlfile_MP189.bsh</td>\n",
       "      <td>.bsh</td>\n",
       "    </tr>\n",
       "  </tbody>\n",
       "</table>\n",
       "</div>"
      ],
      "text/plain": [
       "                                                path     inode number_links   owner    group       ctime       atime       mtime      bytes perms    user               filename file_ext\n",
       "0                  /hii/work/r/rchen7/annotation.txt  14055716            1  rchen7  hii-uva  2016-09-07  2016-11-01  2016-09-07  205283851  0640  rchen7         annotation.txt     .txt\n",
       "1           /hii/work/r/rchen7/cor_expvsobs_review.R  22351900            1  rchen7  hii-uva  2016-11-03  2016-11-03  2016-11-03       1658  0660  rchen7  cor_expvsobs_review.R       .R\n",
       "2  /hii/work/r/rchen7/project/microbiome/curlset_...  30563418            1  rchen7  hii-uva  2017-06-08  2017-06-08  2017-06-08        600  0660  rchen7  curlset_MP189_set.bsh     .bsh\n",
       "3  /hii/work/r/rchen7/project/microbiome/curlset_...  30563403            1  rchen7  hii-uva  2017-06-08  2017-06-08  2017-06-08        254  0770  rchen7      curlset_MP189.bsh     .bsh\n",
       "4  /hii/work/r/rchen7/project/microbiome/curlfile...  30563402            1  rchen7  hii-uva  2017-06-08  2017-06-12  2017-06-08        253  0770  rchen7     curlfile_MP189.bsh     .bsh"
      ]
     },
     "execution_count": 49,
     "metadata": {},
     "output_type": "execute_result"
    }
   ],
   "source": [
    "df.head()"
   ]
  },
  {
   "cell_type": "markdown",
   "metadata": {},
   "source": [
    "## Create columns to levels in the path (/home/{fi}/{user}/{level-1}/{level-2}/{level-3})"
   ]
  },
  {
   "cell_type": "code",
   "execution_count": 50,
   "metadata": {
    "collapsed": true
   },
   "outputs": [],
   "source": [
    "def custom_split(x, level):\n",
    "    offset = path_offset + 1 # to strip off the user-based prefix\n",
    "    elements = x.split('/')\n",
    "    if level + offset >= len(elements):\n",
    "        return None\n",
    "    else:\n",
    "        return elements[level + offset]\n",
    "\n",
    "for level in (1, 2, 3):\n",
    "    df['level-' + str(level)] = df.path.apply(lambda x: custom_split(x, level))"
   ]
  },
  {
   "cell_type": "code",
   "execution_count": 51,
   "metadata": {
    "collapsed": true
   },
   "outputs": [],
   "source": [
    "df_by_group_user_and_level = df.groupby(['group', 'user', 'level-1', 'level-2'])"
   ]
  },
  {
   "cell_type": "markdown",
   "metadata": {},
   "source": [
    "## Display the top 20 level-3 folder usage in GB "
   ]
  },
  {
   "cell_type": "code",
   "execution_count": 52,
   "metadata": {},
   "outputs": [
    {
     "data": {
      "text/plain": [
       "group      user        level-1          level-2                      \n",
       "hii-uva    rchen7      project          mp175                            4451.83\n",
       "hiibaylor  mcwong      TEDDYSamData     Jobs.Split.7                     3539.05\n",
       "                                        Jobs.Split.5                     3488.54\n",
       "                                        Jobs.Split.8                     3371.86\n",
       "                                        Jobs.Split.9                     3322.80\n",
       "                                        Jobs.Split.10                    3275.89\n",
       "                                        Jobs.Split.6                     3004.50\n",
       "                                        Jobs.Split.3                     2926.95\n",
       "                                        Jobs.Split.4                     2885.42\n",
       "                                        Jobs.Split.1                     2604.79\n",
       "                                        Jobs.Split.0                     2561.73\n",
       "                                        Jobs.Split.2                     2368.82\n",
       "                       StrainPhlanTest  SAMFiles                         1042.52\n",
       "                                        MP126.Strainphlan.markers.tar     880.99\n",
       "                                        Samples                           880.98\n",
       "hii-uva    weiminchen  test2            temp                              703.05\n",
       "hiibroad   bayerk      WGS              wgs-products                      456.00\n",
       "                       16S              dirs                              394.49\n",
       "hiibaylor  smithd5     jellyfish_wgs    12mer_counts                      293.15\n",
       "hii-uva    rchen7      project          UVA_eap                           230.65\n",
       "Name: bytes, dtype: float64"
      ]
     },
     "execution_count": 52,
     "metadata": {},
     "output_type": "execute_result"
    }
   ],
   "source": [
    "(df_by_group_user_and_level.bytes.sum() / GB).round(decimals=2).sort_values(ascending=False).head(20)"
   ]
  },
  {
   "cell_type": "markdown",
   "metadata": {},
   "source": [
    "## Split into groups and show total usage in TB by group"
   ]
  },
  {
   "cell_type": "code",
   "execution_count": 53,
   "metadata": {
    "collapsed": true
   },
   "outputs": [],
   "source": [
    "dfg = df.groupby('group')"
   ]
  },
  {
   "cell_type": "code",
   "execution_count": 54,
   "metadata": {},
   "outputs": [
    {
     "data": {
      "text/plain": [
       "<matplotlib.axes._subplots.AxesSubplot at 0x7f00e2998a90>"
      ]
     },
     "execution_count": 54,
     "metadata": {},
     "output_type": "execute_result"
    },
    {
     "data": {
      "image/png": "[encoded data removed]",
      "text/plain": [
       "<matplotlib.figure.Figure at 0x7f00e29980b8>"
      ]
     },
     "metadata": {},
     "output_type": "display_data"
    }
   ],
   "source": [
    "(dfg.bytes.sum() / TB).sort_values(ascending=False).plot.bar()"
   ]
  },
  {
   "cell_type": "markdown",
   "metadata": {},
   "source": [
    "## Show number of files by file extension (blank indicates no extension)"
   ]
  },
  {
   "cell_type": "code",
   "execution_count": 55,
   "metadata": {
    "collapsed": true
   },
   "outputs": [],
   "source": [
    "df_by_file_ext = df.groupby('file_ext')"
   ]
  },
  {
   "cell_type": "code",
   "execution_count": 56,
   "metadata": {},
   "outputs": [
    {
     "data": {
      "text/plain": [
       "file_ext\n",
       ".txt        229080\n",
       ".out        197958\n",
       ".sh         197603\n",
       ".html       131073\n",
       ".log        112333\n",
       ".bz2         99896\n",
       ".py          95498\n",
       ".lz          66165\n",
       ".tsv         45459\n",
       ".biom        24741\n",
       ".fna         24497\n",
       ".uc          24429\n",
       ".err         22328\n",
       ".json        22125\n",
       ".species     22049\n",
       ".fq          16750\n",
       "             15733\n",
       ".fqun2       12334\n",
       ".fqun1       12334\n",
       ".markers     11549\n",
       "Name: path, dtype: int64"
      ]
     },
     "execution_count": 56,
     "metadata": {},
     "output_type": "execute_result"
    }
   ],
   "source": [
    "df_by_file_ext.path.count().sort_values(ascending=False).head(20)"
   ]
  },
  {
   "cell_type": "markdown",
   "metadata": {},
   "source": [
    "## Show usage in TB by file extension (blank indicates no extension)"
   ]
  },
  {
   "cell_type": "code",
   "execution_count": 57,
   "metadata": {},
   "outputs": [
    {
     "data": {
      "text/plain": [
       "file_ext\n",
       ".lz         16.18\n",
       ".bz2        15.38\n",
       ".dose        2.86\n",
       ".gz          2.73\n",
       ".species     1.78\n",
       ".tar         0.86\n",
       ".markers     0.86\n",
       ".txt         0.55\n",
       ".jf          0.29\n",
       ".lz4         0.28\n",
       ".fna         0.26\n",
       ".fq          0.21\n",
       ".bt2l        0.19\n",
       ".hg38        0.15\n",
       ".RData       0.14\n",
       ".hg19        0.14\n",
       ".info        0.04\n",
       ".bed         0.03\n",
       ".json        0.03\n",
       "             0.03\n",
       "Name: bytes, dtype: float64"
      ]
     },
     "execution_count": 57,
     "metadata": {},
     "output_type": "execute_result"
    }
   ],
   "source": [
    "(df_by_file_ext.bytes.sum().sort_values(ascending=False) / TB).round(decimals=2).head(20)"
   ]
  }
 ],
 "metadata": {
  "kernelspec": {
   "display_name": "Python 3",
   "language": "python",
   "name": "python3"
  },
  "language_info": {
   "codemirror_mode": {
    "name": "ipython",
    "version": 3
   },
   "file_extension": ".py",
   "mimetype": "text/x-python",
   "name": "python",
   "nbconvert_exporter": "python",
   "pygments_lexer": "ipython3",
   "version": "3.6.0"
  }
 },
 "nbformat": 4,
 "nbformat_minor": 2
}
