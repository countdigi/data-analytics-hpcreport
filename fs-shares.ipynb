{
 "cells": [
  {
   "cell_type": "markdown",
   "metadata": {},
   "source": [
    "# hii.rc.usf.edu /shares usage report"
   ]
  },
  {
   "cell_type": "code",
   "execution_count": 1,
   "metadata": {
    "collapsed": true
   },
   "outputs": [],
   "source": [
    "import os\n",
    "import math\n",
    "import datetime\n",
    "\n",
    "import pandas as pd\n",
    "import matplotlib.pyplot as plt\n",
    "import numpy as np\n",
    "%matplotlib inline\n",
    "\n",
    "pd.options.mode.chained_assignment = None\n",
    "\n",
    "GB = 2**30\n",
    "TB = 2**40"
   ]
  },
  {
   "cell_type": "markdown",
   "metadata": {},
   "source": [
    "## Set YYYY-MM datestamp based on environment or use default based on date"
   ]
  },
  {
   "cell_type": "code",
   "execution_count": 2,
   "metadata": {},
   "outputs": [
    {
     "data": {
      "text/plain": [
       "'2017-07'"
      ]
     },
     "execution_count": 2,
     "metadata": {},
     "output_type": "execute_result"
    }
   ],
   "source": [
    "datestamp = os.environ.get('DATESTAMP', datetime.datetime.today().strftime('%Y-%m'))\n",
    "datestamp"
   ]
  },
  {
   "cell_type": "markdown",
   "metadata": {},
   "source": [
    "## Read in the pipe separated find output of hii.rc.usf.edu:/shares\n"
   ]
  },
  {
   "cell_type": "code",
   "execution_count": 3,
   "metadata": {
    "collapsed": true
   },
   "outputs": [],
   "source": [
    "df = pd.read_csv(f'http://depot.epi.usf.edu/src/countskm/hpcreport/data/find-shares-{datestamp}.psv.bz2',\n",
    "                 sep='|', dtype=str)\n",
    "df = df.dropna()\n",
    "df.bytes = df.bytes.apply(int)"
   ]
  },
  {
   "cell_type": "markdown",
   "metadata": {},
   "source": [
    "## Extract the group, filename, and file extension creating additional columns"
   ]
  },
  {
   "cell_type": "code",
   "execution_count": 4,
   "metadata": {
    "collapsed": true
   },
   "outputs": [],
   "source": [
    "df['group'] = df.path.apply(lambda x: x.split('/')[2])\n",
    "df['filename'] = df.path.apply(lambda x: x.split('/')[-1])\n",
    "df['file_ext'] = df.path.apply(lambda x: os.path.splitext(x)[-1])"
   ]
  },
  {
   "cell_type": "markdown",
   "metadata": {},
   "source": [
    "## Show the head to get an idea of the structure"
   ]
  },
  {
   "cell_type": "code",
   "execution_count": 5,
   "metadata": {
    "scrolled": true
   },
   "outputs": [
    {
     "data": {
      "text/html": [
       "<div>\n",
       "<style>\n",
       "    .dataframe thead tr:only-child th {\n",
       "        text-align: right;\n",
       "    }\n",
       "\n",
       "    .dataframe thead th {\n",
       "        text-align: left;\n",
       "    }\n",
       "\n",
       "    .dataframe tbody tr th {\n",
       "        vertical-align: top;\n",
       "    }\n",
       "</style>\n",
       "<table border=\"1\" class=\"dataframe\">\n",
       "  <thead>\n",
       "    <tr style=\"text-align: right;\">\n",
       "      <th></th>\n",
       "      <th>path</th>\n",
       "      <th>inode</th>\n",
       "      <th>number_links</th>\n",
       "      <th>owner</th>\n",
       "      <th>group</th>\n",
       "      <th>ctime</th>\n",
       "      <th>atime</th>\n",
       "      <th>mtime</th>\n",
       "      <th>bytes</th>\n",
       "      <th>perms</th>\n",
       "      <th>filename</th>\n",
       "      <th>file_ext</th>\n",
       "    </tr>\n",
       "  </thead>\n",
       "  <tbody>\n",
       "    <tr>\n",
       "      <th>0</th>\n",
       "      <td>/shares/hiibroad/tmp/hdf5-1.8.13/README.txt</td>\n",
       "      <td>9688067</td>\n",
       "      <td>1</td>\n",
       "      <td>bayerk</td>\n",
       "      <td>hiibroad</td>\n",
       "      <td>2016-12-22</td>\n",
       "      <td>2016-12-15</td>\n",
       "      <td>2014-05-05</td>\n",
       "      <td>1763</td>\n",
       "      <td>640</td>\n",
       "      <td>README.txt</td>\n",
       "      <td>.txt</td>\n",
       "    </tr>\n",
       "    <tr>\n",
       "      <th>1</th>\n",
       "      <td>/shares/hiibroad/tmp/hdf5-1.8.13/fortran/Makef...</td>\n",
       "      <td>9688069</td>\n",
       "      <td>1</td>\n",
       "      <td>bayerk</td>\n",
       "      <td>hiibroad</td>\n",
       "      <td>2016-12-22</td>\n",
       "      <td>2016-12-15</td>\n",
       "      <td>2014-05-05</td>\n",
       "      <td>2043</td>\n",
       "      <td>640</td>\n",
       "      <td>Makefile.am</td>\n",
       "      <td>.am</td>\n",
       "    </tr>\n",
       "    <tr>\n",
       "      <th>2</th>\n",
       "      <td>/shares/hiibroad/tmp/hdf5-1.8.13/fortran/CMake...</td>\n",
       "      <td>9688070</td>\n",
       "      <td>1</td>\n",
       "      <td>bayerk</td>\n",
       "      <td>hiibroad</td>\n",
       "      <td>2016-12-22</td>\n",
       "      <td>2016-12-15</td>\n",
       "      <td>2014-05-05</td>\n",
       "      <td>1361</td>\n",
       "      <td>640</td>\n",
       "      <td>CMakeLists.txt</td>\n",
       "      <td>.txt</td>\n",
       "    </tr>\n",
       "    <tr>\n",
       "      <th>3</th>\n",
       "      <td>/shares/hiibroad/tmp/hdf5-1.8.13/fortran/COPYING</td>\n",
       "      <td>9688071</td>\n",
       "      <td>1</td>\n",
       "      <td>bayerk</td>\n",
       "      <td>hiibroad</td>\n",
       "      <td>2016-12-22</td>\n",
       "      <td>2016-12-15</td>\n",
       "      <td>2014-05-05</td>\n",
       "      <td>767</td>\n",
       "      <td>640</td>\n",
       "      <td>COPYING</td>\n",
       "      <td></td>\n",
       "    </tr>\n",
       "    <tr>\n",
       "      <th>4</th>\n",
       "      <td>/shares/hiibroad/tmp/hdf5-1.8.13/fortran/testp...</td>\n",
       "      <td>9688073</td>\n",
       "      <td>1</td>\n",
       "      <td>bayerk</td>\n",
       "      <td>hiibroad</td>\n",
       "      <td>2016-12-22</td>\n",
       "      <td>2016-12-15</td>\n",
       "      <td>2014-05-05</td>\n",
       "      <td>1857</td>\n",
       "      <td>640</td>\n",
       "      <td>Makefile.am</td>\n",
       "      <td>.am</td>\n",
       "    </tr>\n",
       "  </tbody>\n",
       "</table>\n",
       "</div>"
      ],
      "text/plain": [
       "                                                path    inode  number_links   owner     group       ctime       atime       mtime  bytes  perms        filename file_ext\n",
       "0        /shares/hiibroad/tmp/hdf5-1.8.13/README.txt  9688067             1  bayerk  hiibroad  2016-12-22  2016-12-15  2014-05-05   1763    640      README.txt     .txt\n",
       "1  /shares/hiibroad/tmp/hdf5-1.8.13/fortran/Makef...  9688069             1  bayerk  hiibroad  2016-12-22  2016-12-15  2014-05-05   2043    640     Makefile.am      .am\n",
       "2  /shares/hiibroad/tmp/hdf5-1.8.13/fortran/CMake...  9688070             1  bayerk  hiibroad  2016-12-22  2016-12-15  2014-05-05   1361    640  CMakeLists.txt     .txt\n",
       "3   /shares/hiibroad/tmp/hdf5-1.8.13/fortran/COPYING  9688071             1  bayerk  hiibroad  2016-12-22  2016-12-15  2014-05-05    767    640         COPYING         \n",
       "4  /shares/hiibroad/tmp/hdf5-1.8.13/fortran/testp...  9688073             1  bayerk  hiibroad  2016-12-22  2016-12-15  2014-05-05   1857    640     Makefile.am      .am"
      ]
     },
     "execution_count": 5,
     "metadata": {},
     "output_type": "execute_result"
    }
   ],
   "source": [
    "df.head()"
   ]
  },
  {
   "cell_type": "markdown",
   "metadata": {},
   "source": [
    "## Create columns to levels in the path (/shares/{group}/{level-1}/{level-2}/{level-3})"
   ]
  },
  {
   "cell_type": "code",
   "execution_count": 6,
   "metadata": {
    "collapsed": true
   },
   "outputs": [],
   "source": [
    "def custom_split(x, level):\n",
    "    offset = 2 # to strip off /shares/<group>\n",
    "    elements = x.split('/')\n",
    "    if level + offset >= len(elements):\n",
    "        return None\n",
    "    else:\n",
    "        return elements[level + offset]\n",
    "\n",
    "for level in (1, 2, 3):\n",
    "    df['level-' + str(level)] = df.path.apply(lambda x: custom_split(x, level))"
   ]
  },
  {
   "cell_type": "code",
   "execution_count": 7,
   "metadata": {
    "collapsed": true
   },
   "outputs": [],
   "source": [
    "df_by_group_and_level = df.groupby(['group', 'level-1', 'level-2', 'level-3'])"
   ]
  },
  {
   "cell_type": "markdown",
   "metadata": {},
   "source": [
    "## Display the top 20 level-3 folder usage in GB "
   ]
  },
  {
   "cell_type": "code",
   "execution_count": 8,
   "metadata": {},
   "outputs": [
    {
     "data": {
      "text/plain": [
       "group     level-1          level-2           level-3    \n",
       "hiibroad  data             humann2_medclean  output         71561.59\n",
       "                           humann2_uniref90  output         53243.13\n",
       "hii       dataman          teddy             data           22387.56\n",
       "hii-ut    Uncompressed_v4  Stool_WGS         control        16781.13\n",
       "hii-uf    DATA             MP152             data_files     13594.67\n",
       "hii-ut    Data_gz          STOOL-WGS-V2      Stool-WGS-1    11518.29\n",
       "                           STOOL-WGS-V3      Stool-WGS-1    11512.78\n",
       "hii-uf    DATA             MP154             data_files     11429.71\n",
       "                           MP174             data_files     11287.89\n",
       "hii-ut    Vipie_runs       AA                Stool_WGS      10665.69\n",
       "hiibroad  data             humann2_medclean  input           9815.61\n",
       "hii-ut    Data             STOOL-WGS-V2      Stool-WGS-1     9289.12\n",
       "                           STOOL-WGS-V3      Stool-WGS-1     9284.66\n",
       "          Vipie_runs       t1d_list1         stool_wgs       9176.67\n",
       "          Uncompressed_v4  Stool_PV          control         5472.95\n",
       "                           Stool_WGS         case            5363.33\n",
       "          Vipie_runs       3AA_T1D_no        Stool_WGS       4175.27\n",
       "                           AA                Stool_PV        3485.66\n",
       "hii       data             giab              ftp             3226.15\n",
       "hii-ut    Uncompressed_v4  Stool_PV          case            1556.78\n",
       "Name: bytes, dtype: float64"
      ]
     },
     "execution_count": 8,
     "metadata": {},
     "output_type": "execute_result"
    }
   ],
   "source": [
    "(df_by_group_and_level.bytes.sum() / GB).round(decimals=2).sort_values(ascending=False).head(20)"
   ]
  },
  {
   "cell_type": "markdown",
   "metadata": {},
   "source": [
    "## Filter on bz2 extension (indicates original labdata files) excluding group 'hii'"
   ]
  },
  {
   "cell_type": "code",
   "execution_count": 9,
   "metadata": {
    "collapsed": true
   },
   "outputs": [],
   "source": [
    "df_bz2 = df[(df.file_ext == '.bz2') & (df.group != 'hii')]"
   ]
  },
  {
   "cell_type": "markdown",
   "metadata": {},
   "source": [
    "## Group bz2 usage in similar matter showing top-20 level-3 folder usage in GB"
   ]
  },
  {
   "cell_type": "code",
   "execution_count": 10,
   "metadata": {},
   "outputs": [
    {
     "data": {
      "text/plain": [
       "group     level-1  level-2                           level-3         \n",
       "hii-uf    DATA     MP152                             data_files          12776.86\n",
       "                   MP154                             data_files          11427.06\n",
       "                   MP174                             data_files          11287.89\n",
       "hiibroad  data     humann2_medclean                  input                9815.61\n",
       "hii-ut    Data     STOOL-WGS-V2                      Stool-WGS-1          9289.12\n",
       "                   STOOL-WGS-V3                      Stool-WGS-1          9284.66\n",
       "                   STOOL-PV-V2                       Stool-PV-7           1098.47\n",
       "                   STOOL-PV-V3                       Stool-PV-7           1098.31\n",
       "                   STOOL-WGS-V3                      Stool-WGS-6           578.40\n",
       "                                                     Stool-WGS-2           435.64\n",
       "                   STOOL-WGS-V2                      Stool-WGS-2           435.64\n",
       "                   STOOL-PV-V3                       Stool-PV-9            202.05\n",
       "                   STOOL-WGS-V3                      Stool-WGS-5           190.47\n",
       "                   STOOL-WGS-V2                      Stool-WGS-5           190.47\n",
       "                   NASALSWAB-CV-V1                   NasalSwab-CV-1        103.70\n",
       "                   STOOL-WGS-V2                      Stool-WGS-3           102.20\n",
       "                   STOOL-WGS-V3                      Stool-WGS-3           102.20\n",
       "                   PLASMA-WGS-PV-V2_to_be_processed  PLASMA-WGS-PV-V2       97.60\n",
       "                   PLASMA-WGS-PV-V1                  Plasma-WGS-PV-1        92.85\n",
       "                   STOOL-ITS-V1                      Stool-ITS-2            61.27\n",
       "Name: bytes, dtype: float64"
      ]
     },
     "execution_count": 10,
     "metadata": {},
     "output_type": "execute_result"
    }
   ],
   "source": [
    "df_bz2_by_group_and_level = df_bz2.groupby(['group', 'level-1', 'level-2', 'level-3'])\n",
    "(df_bz2_by_group_and_level.bytes.sum() / GB).round(decimals=2).sort_values(ascending=False).head(20)"
   ]
  },
  {
   "cell_type": "markdown",
   "metadata": {},
   "source": [
    "## Filter on bz2 extension only for group 'hii'"
   ]
  },
  {
   "cell_type": "code",
   "execution_count": 11,
   "metadata": {
    "collapsed": true
   },
   "outputs": [],
   "source": [
    "df_bz2_hii = df[(df.file_ext == '.bz2') & (df.group == 'hii')]"
   ]
  },
  {
   "cell_type": "code",
   "execution_count": 12,
   "metadata": {},
   "outputs": [
    {
     "data": {
      "text/plain": [
       "group     level-1  level-2                           level-3         \n",
       "hii-uf    DATA     MP152                             data_files          12776.86\n",
       "                   MP154                             data_files          11427.06\n",
       "                   MP174                             data_files          11287.89\n",
       "hiibroad  data     humann2_medclean                  input                9815.61\n",
       "hii-ut    Data     STOOL-WGS-V2                      Stool-WGS-1          9289.12\n",
       "                   STOOL-WGS-V3                      Stool-WGS-1          9284.66\n",
       "                   STOOL-PV-V2                       Stool-PV-7           1098.47\n",
       "                   STOOL-PV-V3                       Stool-PV-7           1098.31\n",
       "                   STOOL-WGS-V3                      Stool-WGS-6           578.40\n",
       "                                                     Stool-WGS-2           435.64\n",
       "                   STOOL-WGS-V2                      Stool-WGS-2           435.64\n",
       "                   STOOL-PV-V3                       Stool-PV-9            202.05\n",
       "                   STOOL-WGS-V3                      Stool-WGS-5           190.47\n",
       "                   STOOL-WGS-V2                      Stool-WGS-5           190.47\n",
       "                   NASALSWAB-CV-V1                   NasalSwab-CV-1        103.70\n",
       "                   STOOL-WGS-V2                      Stool-WGS-3           102.20\n",
       "                   STOOL-WGS-V3                      Stool-WGS-3           102.20\n",
       "                   PLASMA-WGS-PV-V2_to_be_processed  PLASMA-WGS-PV-V2       97.60\n",
       "                   PLASMA-WGS-PV-V1                  Plasma-WGS-PV-1        92.85\n",
       "                   STOOL-ITS-V1                      Stool-ITS-2            61.27\n",
       "Name: bytes, dtype: float64"
      ]
     },
     "execution_count": 12,
     "metadata": {},
     "output_type": "execute_result"
    }
   ],
   "source": [
    "df_bz2_hii_by_group_and_level = df_bz2.groupby(['group', 'level-1', 'level-2', 'level-3'])\n",
    "(df_bz2_hii_by_group_and_level.bytes.sum() / GB).round(decimals=2).sort_values(ascending=False).head(20)"
   ]
  },
  {
   "cell_type": "markdown",
   "metadata": {},
   "source": [
    "## Calculate size in TB of all bz2 excluding group 'hii'"
   ]
  },
  {
   "cell_type": "code",
   "execution_count": 13,
   "metadata": {},
   "outputs": [
    {
     "data": {
      "text/plain": [
       "67.0"
      ]
     },
     "execution_count": 13,
     "metadata": {},
     "output_type": "execute_result"
    }
   ],
   "source": [
    "df_bz2_tb = df_bz2.bytes.sum() / TB\n",
    "round(df_bz2_tb)"
   ]
  },
  {
   "cell_type": "markdown",
   "metadata": {},
   "source": [
    "## Calculate size in TB of all bz2 excluding group 'hii'"
   ]
  },
  {
   "cell_type": "code",
   "execution_count": 14,
   "metadata": {},
   "outputs": [
    {
     "data": {
      "text/plain": [
       "14.0"
      ]
     },
     "execution_count": 14,
     "metadata": {},
     "output_type": "execute_result"
    }
   ],
   "source": [
    "df_bz2_hii_tb = df_bz2_hii.bytes.sum() / TB\n",
    "round(df_bz2_hii_tb)"
   ]
  },
  {
   "cell_type": "markdown",
   "metadata": {},
   "source": [
    "## Wastage due to moving from /hiidata to /shares (%):"
   ]
  },
  {
   "cell_type": "code",
   "execution_count": 15,
   "metadata": {},
   "outputs": [
    {
     "name": "stdout",
     "output_type": "stream",
     "text": [
      "475%\n"
     ]
    },
    {
     "data": {
      "text/plain": [
       "<function print>"
      ]
     },
     "execution_count": 15,
     "metadata": {},
     "output_type": "execute_result"
    }
   ],
   "source": [
    "print(\"{:.0%}\".format(df_bz2_tb / df_bz2_hii_tb)); print"
   ]
  },
  {
   "cell_type": "markdown",
   "metadata": {},
   "source": [
    "## Split into groups and show total usage in TB by group"
   ]
  },
  {
   "cell_type": "code",
   "execution_count": 16,
   "metadata": {
    "collapsed": true
   },
   "outputs": [],
   "source": [
    "dfg = df.groupby('group')"
   ]
  },
  {
   "cell_type": "code",
   "execution_count": 17,
   "metadata": {},
   "outputs": [
    {
     "data": {
      "text/plain": [
       "<matplotlib.axes._subplots.AxesSubplot at 0x7f288f429780>"
      ]
     },
     "execution_count": 17,
     "metadata": {},
     "output_type": "execute_result"
    },
    {
     "data": {
      "image/png": "[encoded data removed]",
      "text/plain": [
       "<matplotlib.figure.Figure at 0x7f296c0c75c0>"
      ]
     },
     "metadata": {},
     "output_type": "display_data"
    }
   ],
   "source": [
    "(dfg.bytes.sum() / TB).sort_values(ascending=False).plot.bar()"
   ]
  },
  {
   "cell_type": "markdown",
   "metadata": {},
   "source": [
    "## Show number of files by file extension (blank indicates no extension)"
   ]
  },
  {
   "cell_type": "code",
   "execution_count": 18,
   "metadata": {
    "collapsed": true
   },
   "outputs": [],
   "source": [
    "df_by_file_ext = df.groupby('file_ext')"
   ]
  },
  {
   "cell_type": "code",
   "execution_count": 19,
   "metadata": {},
   "outputs": [
    {
     "data": {
      "text/plain": [
       "file_ext\n",
       ".fa             1054803\n",
       ".bz2             894034\n",
       ".tsv             374299\n",
       ".gz              335568\n",
       "                 321791\n",
       ".txt             271495\n",
       ".fastq           185254\n",
       ".html            175274\n",
       ".logfile         171889\n",
       ".py              129753\n",
       ".zip             128501\n",
       ".sam             114930\n",
       ".log             106382\n",
       ".csv              98386\n",
       ".fastqsanger      90656\n",
       ".pickle           89392\n",
       ".out              81057\n",
       ".pac              75748\n",
       ".sa               74464\n",
       ".bwt              74464\n",
       "Name: path, dtype: int64"
      ]
     },
     "execution_count": 19,
     "metadata": {},
     "output_type": "execute_result"
    }
   ],
   "source": [
    "df_by_file_ext.path.count().sort_values(ascending=False).head(20)"
   ]
  },
  {
   "cell_type": "markdown",
   "metadata": {},
   "source": [
    "## Show usage in TB by file extension (blank indicates no extension)"
   ]
  },
  {
   "cell_type": "code",
   "execution_count": 20,
   "metadata": {},
   "outputs": [
    {
     "data": {
      "text/plain": [
       "file_ext\n",
       ".fastq          84.32\n",
       ".bz2            81.68\n",
       ".sam            63.05\n",
       ".gz             39.57\n",
       ".bam            30.44\n",
       ".dist           10.06\n",
       ".pickle          7.99\n",
       ".fa              7.42\n",
       "                 6.19\n",
       ".fastqsanger     4.42\n",
       ".align           2.28\n",
       ".csv             2.18\n",
       ".tsv             0.93\n",
       ".txt             0.89\n",
       ".markers         0.83\n",
       ".tif             0.64\n",
       ".map             0.63\n",
       ".fq              0.52\n",
       ".tsv_orig        0.46\n",
       ".zip             0.40\n",
       "Name: bytes, dtype: float64"
      ]
     },
     "execution_count": 20,
     "metadata": {},
     "output_type": "execute_result"
    }
   ],
   "source": [
    "(df_by_file_ext.bytes.sum().sort_values(ascending=False) / TB).round(decimals=2).head(20)"
   ]
  }
 ],
 "metadata": {
  "kernelspec": {
   "display_name": "Python 3",
   "language": "python",
   "name": "python3"
  },
  "language_info": {
   "codemirror_mode": {
    "name": "ipython",
    "version": 3
   },
   "file_extension": ".py",
   "mimetype": "text/x-python",
   "name": "python",
   "nbconvert_exporter": "python",
   "pygments_lexer": "ipython3",
   "version": "3.6.1"
  }
 },
 "nbformat": 4,
 "nbformat_minor": 2
}
